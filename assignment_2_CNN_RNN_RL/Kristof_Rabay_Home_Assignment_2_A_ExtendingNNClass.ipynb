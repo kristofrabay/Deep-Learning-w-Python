{
 "cells": [
  {
   "cell_type": "markdown",
   "metadata": {},
   "source": [
    "# Deep Learning w/ Python\n",
    "\n",
    "## Home Assignment II. by Kristof Rabay - CNN, Reinforcement Learning\n",
    "\n",
    "---"
   ]
  },
  {
   "cell_type": "markdown",
   "metadata": {},
   "source": [
    "## A) Extend NN\n",
    "\n",
    "Extend the NeuralNetwork class implementation with optional regularization and an alternative ADAM solver."
   ]
  },
  {
   "cell_type": "markdown",
   "metadata": {},
   "source": [
    "## Solution\n",
    "\n",
    "1. Re-import existing class\n",
    "2. Add regularization & ADAM optimizer\n",
    "\n",
    "Will be learning the truth table of the `XOR` logical operator:\n",
    "\n",
    "A | B | output |\n",
    "--|---|--------|\n",
    "0 | 0 | -1     |\n",
    "0 | 1 | 1     |\n",
    "1 | 0 | 1     |\n",
    "1 | 1 | -1     |"
   ]
  },
  {
   "cell_type": "markdown",
   "metadata": {},
   "source": [
    "### A.1 Redefining class"
   ]
  },
  {
   "cell_type": "code",
   "execution_count": 39,
   "metadata": {},
   "outputs": [],
   "source": [
    "import numpy as np\n",
    "import pandas as pd\n",
    "import matplotlib.pyplot as plt\n",
    "\n",
    "def plot_results_with_hyperplane(X, y, clf, clf_name=None, ax=None):\n",
    "    df = pd.DataFrame(data=X, columns=['x', 'y'])\n",
    "    df['label'] = y\n",
    "    \n",
    "    x_min, x_max = df.x.min() - .5, df.x.max() + .5\n",
    "    y_min, y_max = df.y.min() - .5, df.y.max() + .5\n",
    "\n",
    "    xx, yy = np.meshgrid(np.arange(x_min, x_max, .02), np.arange(y_min, y_max, .02))\n",
    "    Z = clf.predict(np.c_[xx.ravel(), yy.ravel()])\n",
    "    Z = Z.reshape(xx.shape)\n",
    "    \n",
    "    if ax is None:\n",
    "        fig, ax = plt.subplots()\n",
    "    \n",
    "    ax.pcolormesh(xx, yy, Z, cmap=plt.cm.Paired)\n",
    "    ax.scatter(df.x, df.y, c=df.label, edgecolors='k')\n",
    "    \n",
    "    if clf_name is not None:\n",
    "        ax.set_title(clf_name)\n",
    "    \n",
    "    return fig"
   ]
  },
  {
   "cell_type": "code",
   "execution_count": 116,
   "metadata": {},
   "outputs": [],
   "source": [
    "def sigmoid(x):\n",
    "    return 1. / (1. + np.exp(-x))\n",
    "\n",
    "def sigmoid_prime(x):\n",
    "    return sigmoid(x) * (1 - sigmoid(x))\n",
    "\n",
    "def tanh(x):\n",
    "    return np.tanh(x)\n",
    "\n",
    "def tanh_prime(x):\n",
    "    return 1. - np.tanh(x) ** 2\n",
    "\n",
    "activation_function = {'sigmoid': {'f': sigmoid, \"f'\": sigmoid_prime},\n",
    "                       'tanh': {'f': tanh, \"f'\": tanh_prime}}\n",
    "\n",
    "\n",
    "def random_weight(layers, index):\n",
    "\n",
    "    input_size = layers[index - 1] + 1\n",
    "    \n",
    "    extra_bias = int(not index == len(layers) - 1) # + 1 bias if not output layer \n",
    "    neuron_count = layers[index] + extra_bias\n",
    "    \n",
    "    shape = (input_size, neuron_count)\n",
    "\n",
    "    return 2 * np.random.random(shape) - 1\n",
    "\n",
    "\n",
    "def add_bias(X):\n",
    "    if X.ndim == 1:\n",
    "        return np.concatenate(([1], X))\n",
    "    \n",
    "    nrows, _ = X.shape\n",
    "    ones = np.ones((nrows, 1))\n",
    "    return np.concatenate((ones, X), axis=1)\n",
    "\n",
    "\n",
    "class NeuralNetwork:\n",
    "    \n",
    "    def __init__(self, layers=[2, 2, 1], \n",
    "                 activation='sigmoid', \n",
    "                 alpha=0.1,\n",
    "                 b1 = 0.9, b2 = 0.999, eps = 1e-08):\n",
    "        \n",
    "        self.activation = activation_function[activation][\"f\"]\n",
    "        self.activation_prime = activation_function[activation][\"f'\"]\n",
    "        \n",
    "        self.alpha = alpha\n",
    "        self.b1 = b1\n",
    "        self.b2 = b2\n",
    "        self.eps = eps\n",
    "\n",
    "        self.layers = layers\n",
    "        self.weights = [random_weight(layers, i) \n",
    "                        for i in range(1, len(layers))]\n",
    "    \n",
    "    def __str__(self):\n",
    "        layers = \" x \".join(str(l) for l in self.layers)\n",
    "        return f'NeuralNet[{layers}]'\n",
    "        \n",
    "    def forward(self, x):\n",
    "        nlayers = len(self.weights)\n",
    "\n",
    "        a = [add_bias(x)]\n",
    "\n",
    "        for layer in range(nlayers):\n",
    "            dot_value = np.dot(a[layer], self.weights[layer])\n",
    "            activation = self.activation(dot_value)\n",
    "            a.append(activation)\n",
    "        \n",
    "        return a\n",
    "    \n",
    "\n",
    "    def delta(self, a, y):\n",
    "        nlayers = len(self.weights)\n",
    "        \n",
    "        error = y - a[-1]\n",
    "        deltas = [error * self.activation_prime(a[-1])]\n",
    "\n",
    "        for layer in range(nlayers - 1, 0, -1):\n",
    "            dot_value = np.dot(deltas[-1], self.weights[layer].T)\n",
    "            delta = dot_value * self.activation_prime(a[layer])\n",
    "            deltas.append(delta)\n",
    "\n",
    "        deltas.reverse()\n",
    "        return deltas \n",
    "    \n",
    "    \n",
    "        \n",
    "    def backward(self, a, deltas):\n",
    "        \n",
    "        nlayers = len(self.weights)\n",
    "        \n",
    "        V_delta = 0\n",
    "        S_delta = 0\n",
    "        t = 0\n",
    "\n",
    "        for layer in range(nlayers):\n",
    "            \n",
    "            inputs = np.atleast_2d(a[layer]).T\n",
    "            delta = np.atleast_2d(deltas[layer])\n",
    "            \n",
    "            V_delta = self.b1 * V_delta + (1 - self.b1) * delta \n",
    "            S_delta = self.b2 * S_delta + (1 - self.b2) * delta * delta \n",
    "            \n",
    "            V_delta_cor = V_delta / (1 - (self.b1 ** t))\n",
    "            S_delta_cor = S_delta / (1 - (self.b2 ** t))\n",
    "            \n",
    "            self.weights[layer] = self.weights[layer] + self.alpha * ( (V_delta_cor) / ( (S_delta_cor ** (1/2) ) + self.eps) )\n",
    "            \n",
    "\n",
    "        \n",
    "    def fit(self, X, y, epochs=100):\n",
    "        nrows, nfeats = X.shape\n",
    "        nlayers = len(self.weights)\n",
    "            \n",
    "        for iteration in range(epochs):\n",
    "            for i in range(nrows):\n",
    "                a = self.forward(X[i])\n",
    "                deltas = self.delta(a, y[i])\n",
    "                self.backward(a, deltas)\n",
    "        \n",
    "        return self\n",
    "            \n",
    "    def predict(self, X): \n",
    "        a = add_bias(X)\n",
    "        for layer in self.weights:\n",
    "            a = self.activation(np.dot(a, layer))\n",
    "        return a > 0\n",
    "    "
   ]
  },
  {
   "cell_type": "markdown",
   "metadata": {},
   "source": [
    "### A.2 Fitting net to XOR data"
   ]
  },
  {
   "cell_type": "code",
   "execution_count": 117,
   "metadata": {},
   "outputs": [],
   "source": [
    "inputs = np.array([[0, 0], [0, 1], [1, 0], [1, 1]])\n",
    "labels = np.array([-1, 1, 1, -1])"
   ]
  },
  {
   "cell_type": "code",
   "execution_count": 121,
   "metadata": {},
   "outputs": [
    {
     "name": "stderr",
     "output_type": "stream",
     "text": [
      "C:\\Users\\Krisz\\Anaconda3\\envs\\ceu_dl\\lib\\site-packages\\ipykernel_launcher.py:106: RuntimeWarning: divide by zero encountered in true_divide\n",
      "C:\\Users\\Krisz\\Anaconda3\\envs\\ceu_dl\\lib\\site-packages\\ipykernel_launcher.py:107: RuntimeWarning: divide by zero encountered in true_divide\n",
      "C:\\Users\\Krisz\\Anaconda3\\envs\\ceu_dl\\lib\\site-packages\\ipykernel_launcher.py:109: RuntimeWarning: invalid value encountered in true_divide\n",
      "C:\\Users\\Krisz\\Anaconda3\\envs\\ceu_dl\\lib\\site-packages\\ipykernel_launcher.py:129: RuntimeWarning: invalid value encountered in greater\n"
     ]
    },
    {
     "ename": "ValueError",
     "evalue": "cannot reshape array of size 30000 into shape (100,100)",
     "output_type": "error",
     "traceback": [
      "\u001b[1;31m---------------------------------------------------------------------------\u001b[0m",
      "\u001b[1;31mValueError\u001b[0m                                Traceback (most recent call last)",
      "\u001b[1;32m<ipython-input-121-7ea66276669b>\u001b[0m in \u001b[0;36m<module>\u001b[1;34m\u001b[0m\n\u001b[0;32m      3\u001b[0m \u001b[0mnnet\u001b[0m\u001b[1;33m.\u001b[0m\u001b[0mfit\u001b[0m\u001b[1;33m(\u001b[0m\u001b[0minputs\u001b[0m\u001b[1;33m,\u001b[0m \u001b[0mlabels\u001b[0m\u001b[1;33m,\u001b[0m \u001b[0mepochs\u001b[0m \u001b[1;33m=\u001b[0m \u001b[1;36m3000\u001b[0m\u001b[1;33m)\u001b[0m\u001b[1;33m\u001b[0m\u001b[1;33m\u001b[0m\u001b[0m\n\u001b[0;32m      4\u001b[0m \u001b[1;33m\u001b[0m\u001b[0m\n\u001b[1;32m----> 5\u001b[1;33m \u001b[0mplot_results_with_hyperplane\u001b[0m\u001b[1;33m(\u001b[0m\u001b[0minputs\u001b[0m\u001b[1;33m,\u001b[0m \u001b[0mlabels\u001b[0m\u001b[1;33m,\u001b[0m \u001b[0mnnet\u001b[0m\u001b[1;33m,\u001b[0m \u001b[0mstr\u001b[0m\u001b[1;33m(\u001b[0m\u001b[0mnnet\u001b[0m\u001b[1;33m)\u001b[0m\u001b[1;33m)\u001b[0m\u001b[1;33m;\u001b[0m\u001b[1;33m\u001b[0m\u001b[1;33m\u001b[0m\u001b[0m\n\u001b[0m",
      "\u001b[1;32m<ipython-input-39-321709447199>\u001b[0m in \u001b[0;36mplot_results_with_hyperplane\u001b[1;34m(X, y, clf, clf_name, ax)\u001b[0m\n\u001b[0;32m     12\u001b[0m     \u001b[0mxx\u001b[0m\u001b[1;33m,\u001b[0m \u001b[0myy\u001b[0m \u001b[1;33m=\u001b[0m \u001b[0mnp\u001b[0m\u001b[1;33m.\u001b[0m\u001b[0mmeshgrid\u001b[0m\u001b[1;33m(\u001b[0m\u001b[0mnp\u001b[0m\u001b[1;33m.\u001b[0m\u001b[0marange\u001b[0m\u001b[1;33m(\u001b[0m\u001b[0mx_min\u001b[0m\u001b[1;33m,\u001b[0m \u001b[0mx_max\u001b[0m\u001b[1;33m,\u001b[0m \u001b[1;36m.02\u001b[0m\u001b[1;33m)\u001b[0m\u001b[1;33m,\u001b[0m \u001b[0mnp\u001b[0m\u001b[1;33m.\u001b[0m\u001b[0marange\u001b[0m\u001b[1;33m(\u001b[0m\u001b[0my_min\u001b[0m\u001b[1;33m,\u001b[0m \u001b[0my_max\u001b[0m\u001b[1;33m,\u001b[0m \u001b[1;36m.02\u001b[0m\u001b[1;33m)\u001b[0m\u001b[1;33m)\u001b[0m\u001b[1;33m\u001b[0m\u001b[1;33m\u001b[0m\u001b[0m\n\u001b[0;32m     13\u001b[0m     \u001b[0mZ\u001b[0m \u001b[1;33m=\u001b[0m \u001b[0mclf\u001b[0m\u001b[1;33m.\u001b[0m\u001b[0mpredict\u001b[0m\u001b[1;33m(\u001b[0m\u001b[0mnp\u001b[0m\u001b[1;33m.\u001b[0m\u001b[0mc_\u001b[0m\u001b[1;33m[\u001b[0m\u001b[0mxx\u001b[0m\u001b[1;33m.\u001b[0m\u001b[0mravel\u001b[0m\u001b[1;33m(\u001b[0m\u001b[1;33m)\u001b[0m\u001b[1;33m,\u001b[0m \u001b[0myy\u001b[0m\u001b[1;33m.\u001b[0m\u001b[0mravel\u001b[0m\u001b[1;33m(\u001b[0m\u001b[1;33m)\u001b[0m\u001b[1;33m]\u001b[0m\u001b[1;33m)\u001b[0m\u001b[1;33m\u001b[0m\u001b[1;33m\u001b[0m\u001b[0m\n\u001b[1;32m---> 14\u001b[1;33m     \u001b[0mZ\u001b[0m \u001b[1;33m=\u001b[0m \u001b[0mZ\u001b[0m\u001b[1;33m.\u001b[0m\u001b[0mreshape\u001b[0m\u001b[1;33m(\u001b[0m\u001b[0mxx\u001b[0m\u001b[1;33m.\u001b[0m\u001b[0mshape\u001b[0m\u001b[1;33m)\u001b[0m\u001b[1;33m\u001b[0m\u001b[1;33m\u001b[0m\u001b[0m\n\u001b[0m\u001b[0;32m     15\u001b[0m \u001b[1;33m\u001b[0m\u001b[0m\n\u001b[0;32m     16\u001b[0m     \u001b[1;32mif\u001b[0m \u001b[0max\u001b[0m \u001b[1;32mis\u001b[0m \u001b[1;32mNone\u001b[0m\u001b[1;33m:\u001b[0m\u001b[1;33m\u001b[0m\u001b[1;33m\u001b[0m\u001b[0m\n",
      "\u001b[1;31mValueError\u001b[0m: cannot reshape array of size 30000 into shape (100,100)"
     ]
    }
   ],
   "source": [
    "nnet = NeuralNetwork(activation='tanh', alpha = 0.1, layers = [2, 2, 1], )\n",
    "\n",
    "nnet.fit(inputs, labels, epochs = 3000)\n",
    "\n",
    "plot_results_with_hyperplane(inputs, labels, nnet, str(nnet));"
   ]
  },
  {
   "cell_type": "code",
   "execution_count": null,
   "metadata": {},
   "outputs": [],
   "source": []
  }
 ],
 "metadata": {
  "kernelspec": {
   "display_name": "Python 3",
   "language": "python",
   "name": "python3"
  },
  "language_info": {
   "codemirror_mode": {
    "name": "ipython",
    "version": 3
   },
   "file_extension": ".py",
   "mimetype": "text/x-python",
   "name": "python",
   "nbconvert_exporter": "python",
   "pygments_lexer": "ipython3",
   "version": "3.7.7"
  }
 },
 "nbformat": 4,
 "nbformat_minor": 4
}
