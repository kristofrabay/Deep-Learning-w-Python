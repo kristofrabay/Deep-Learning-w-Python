{
 "cells": [
  {
   "cell_type": "markdown",
   "metadata": {},
   "source": [
    "# Deep Learning w/ Python\n",
    "\n",
    "## Home Assignment II. by Kristof Rabay - CNN, Reinforcement Learning\n",
    "\n",
    "---"
   ]
  },
  {
   "cell_type": "markdown",
   "metadata": {},
   "source": [
    "## C) Newsgroups similarity\n",
    "\n",
    "In our newsgroups example, the model accuracy on the test set was pretty lackluster. Improve the model by creating a more clever trainset, try out FastText embedding and use more topics (preferably all of them). Create a function which receives a document as text, and prints out the `n` most similar document from the newsgroups dataset."
   ]
  },
  {
   "cell_type": "code",
   "execution_count": 28,
   "metadata": {},
   "outputs": [],
   "source": [
    "# function receives doc of text\n",
    "# print n most similar doc from dataser\n",
    "# small recommender system"
   ]
  },
  {
   "cell_type": "markdown",
   "metadata": {},
   "source": [
    "## Solution\n",
    "\n",
    "Before training I'll do some pre-processing\n",
    "- removing headers, footers & quotes\n",
    "- tokenizing\n",
    "- etc...\n",
    "\n",
    "I'll do:\n",
    "\n",
    "1. NN with embedding to classify news articles\n",
    "2. FastText to find most similar articles"
   ]
  },
  {
   "cell_type": "markdown",
   "metadata": {},
   "source": [
    "### C.1 Importing necessary libraries and data"
   ]
  },
  {
   "cell_type": "code",
   "execution_count": 28,
   "metadata": {},
   "outputs": [],
   "source": [
    "import numpy as np\n",
    "import pandas as pd\n",
    "\n",
    "from keras.preprocessing.text import Tokenizer\n",
    "from keras.preprocessing.sequence import pad_sequences\n",
    "from keras.utils.np_utils import to_categorical\n",
    "\n",
    "from keras.models import Sequential, Model\n",
    "from keras.layers import Dense, Flatten, Activation, Embedding, Conv1D, MaxPooling1D, Input\n",
    "from keras.callbacks import EarlyStopping\n",
    "from livelossplot import PlotLossesKeras\n",
    "\n",
    "from sklearn.datasets import fetch_20newsgroups"
   ]
  },
  {
   "cell_type": "markdown",
   "metadata": {},
   "source": [
    "### C.2 Training own vectors"
   ]
  },
  {
   "cell_type": "markdown",
   "metadata": {},
   "source": [
    "What are the topics covered in this dataset?"
   ]
  },
  {
   "cell_type": "code",
   "execution_count": 10,
   "metadata": {},
   "outputs": [
    {
     "name": "stderr",
     "output_type": "stream",
     "text": [
      "Downloading 20news dataset. This may take a few minutes.\n",
      "Downloading dataset from https://ndownloader.figshare.com/files/5975967 (14 MB)\n"
     ]
    },
    {
     "data": {
      "text/plain": [
       "['alt.atheism',\n",
       " 'comp.graphics',\n",
       " 'comp.os.ms-windows.misc',\n",
       " 'comp.sys.ibm.pc.hardware',\n",
       " 'comp.sys.mac.hardware',\n",
       " 'comp.windows.x',\n",
       " 'misc.forsale',\n",
       " 'rec.autos',\n",
       " 'rec.motorcycles',\n",
       " 'rec.sport.baseball',\n",
       " 'rec.sport.hockey',\n",
       " 'sci.crypt',\n",
       " 'sci.electronics',\n",
       " 'sci.med',\n",
       " 'sci.space',\n",
       " 'soc.religion.christian',\n",
       " 'talk.politics.guns',\n",
       " 'talk.politics.mideast',\n",
       " 'talk.politics.misc',\n",
       " 'talk.religion.misc']"
      ]
     },
     "execution_count": 10,
     "metadata": {},
     "output_type": "execute_result"
    }
   ],
   "source": [
    "fetch_20newsgroups(subset = 'all').target_names"
   ]
  },
  {
   "cell_type": "markdown",
   "metadata": {},
   "source": [
    "Will be using all data to create the recommendation system"
   ]
  },
  {
   "cell_type": "code",
   "execution_count": 54,
   "metadata": {},
   "outputs": [],
   "source": [
    "data = fetch_20newsgroups(subset = 'all', remove=('headers', 'footers', 'quotes')) # drop headers, etc in the beginning\n",
    "X = data.data\n",
    "y = to_categorical(np.asarray(data.target))"
   ]
  },
  {
   "cell_type": "code",
   "execution_count": 55,
   "metadata": {},
   "outputs": [
    {
     "data": {
      "text/html": [
       "<div>\n",
       "<style scoped>\n",
       "    .dataframe tbody tr th:only-of-type {\n",
       "        vertical-align: middle;\n",
       "    }\n",
       "\n",
       "    .dataframe tbody tr th {\n",
       "        vertical-align: top;\n",
       "    }\n",
       "\n",
       "    .dataframe thead th {\n",
       "        text-align: right;\n",
       "    }\n",
       "</style>\n",
       "<table border=\"1\" class=\"dataframe\">\n",
       "  <thead>\n",
       "    <tr style=\"text-align: right;\">\n",
       "      <th></th>\n",
       "      <th>label</th>\n",
       "      <th>news_topic</th>\n",
       "    </tr>\n",
       "  </thead>\n",
       "  <tbody>\n",
       "    <tr>\n",
       "      <th>0</th>\n",
       "      <td>0</td>\n",
       "      <td>alt.atheism</td>\n",
       "    </tr>\n",
       "    <tr>\n",
       "      <th>1</th>\n",
       "      <td>1</td>\n",
       "      <td>comp.graphics</td>\n",
       "    </tr>\n",
       "    <tr>\n",
       "      <th>2</th>\n",
       "      <td>2</td>\n",
       "      <td>comp.os.ms-windows.misc</td>\n",
       "    </tr>\n",
       "    <tr>\n",
       "      <th>3</th>\n",
       "      <td>3</td>\n",
       "      <td>comp.sys.ibm.pc.hardware</td>\n",
       "    </tr>\n",
       "    <tr>\n",
       "      <th>4</th>\n",
       "      <td>4</td>\n",
       "      <td>comp.sys.mac.hardware</td>\n",
       "    </tr>\n",
       "    <tr>\n",
       "      <th>5</th>\n",
       "      <td>5</td>\n",
       "      <td>comp.windows.x</td>\n",
       "    </tr>\n",
       "    <tr>\n",
       "      <th>6</th>\n",
       "      <td>6</td>\n",
       "      <td>misc.forsale</td>\n",
       "    </tr>\n",
       "    <tr>\n",
       "      <th>7</th>\n",
       "      <td>7</td>\n",
       "      <td>rec.autos</td>\n",
       "    </tr>\n",
       "    <tr>\n",
       "      <th>8</th>\n",
       "      <td>8</td>\n",
       "      <td>rec.motorcycles</td>\n",
       "    </tr>\n",
       "    <tr>\n",
       "      <th>9</th>\n",
       "      <td>9</td>\n",
       "      <td>rec.sport.baseball</td>\n",
       "    </tr>\n",
       "    <tr>\n",
       "      <th>10</th>\n",
       "      <td>10</td>\n",
       "      <td>rec.sport.hockey</td>\n",
       "    </tr>\n",
       "    <tr>\n",
       "      <th>11</th>\n",
       "      <td>11</td>\n",
       "      <td>sci.crypt</td>\n",
       "    </tr>\n",
       "    <tr>\n",
       "      <th>12</th>\n",
       "      <td>12</td>\n",
       "      <td>sci.electronics</td>\n",
       "    </tr>\n",
       "    <tr>\n",
       "      <th>13</th>\n",
       "      <td>13</td>\n",
       "      <td>sci.med</td>\n",
       "    </tr>\n",
       "    <tr>\n",
       "      <th>14</th>\n",
       "      <td>14</td>\n",
       "      <td>sci.space</td>\n",
       "    </tr>\n",
       "    <tr>\n",
       "      <th>15</th>\n",
       "      <td>15</td>\n",
       "      <td>soc.religion.christian</td>\n",
       "    </tr>\n",
       "    <tr>\n",
       "      <th>16</th>\n",
       "      <td>16</td>\n",
       "      <td>talk.politics.guns</td>\n",
       "    </tr>\n",
       "    <tr>\n",
       "      <th>17</th>\n",
       "      <td>17</td>\n",
       "      <td>talk.politics.mideast</td>\n",
       "    </tr>\n",
       "    <tr>\n",
       "      <th>18</th>\n",
       "      <td>18</td>\n",
       "      <td>talk.politics.misc</td>\n",
       "    </tr>\n",
       "    <tr>\n",
       "      <th>19</th>\n",
       "      <td>19</td>\n",
       "      <td>talk.religion.misc</td>\n",
       "    </tr>\n",
       "  </tbody>\n",
       "</table>\n",
       "</div>"
      ],
      "text/plain": [
       "    label                news_topic\n",
       "0       0               alt.atheism\n",
       "1       1             comp.graphics\n",
       "2       2   comp.os.ms-windows.misc\n",
       "3       3  comp.sys.ibm.pc.hardware\n",
       "4       4     comp.sys.mac.hardware\n",
       "5       5            comp.windows.x\n",
       "6       6              misc.forsale\n",
       "7       7                 rec.autos\n",
       "8       8           rec.motorcycles\n",
       "9       9        rec.sport.baseball\n",
       "10     10          rec.sport.hockey\n",
       "11     11                 sci.crypt\n",
       "12     12           sci.electronics\n",
       "13     13                   sci.med\n",
       "14     14                 sci.space\n",
       "15     15    soc.religion.christian\n",
       "16     16        talk.politics.guns\n",
       "17     17     talk.politics.mideast\n",
       "18     18        talk.politics.misc\n",
       "19     19        talk.religion.misc"
      ]
     },
     "execution_count": 55,
     "metadata": {},
     "output_type": "execute_result"
    }
   ],
   "source": [
    "labels = {v: k for v, k in enumerate(data.target_names)}\n",
    "labels = pd.DataFrame(labels.items())\n",
    "labels = labels.rename(columns={0: 'label', 1: 'news_topic'})\n",
    "labels"
   ]
  },
  {
   "cell_type": "code",
   "execution_count": 56,
   "metadata": {},
   "outputs": [
    {
     "data": {
      "text/plain": [
       "(\"\\n\\nI am sure some bashers of Pens fans are pretty confused about the lack\\nof any kind of posts about the recent Pens massacre of the Devils. Actually,\\nI am  bit puzzled too and a bit relieved. However, I am going to put an end\\nto non-PIttsburghers' relief with a bit of praise for the Pens. Man, they\\nare killing those Devils worse than I thought. Jagr just showed you why\\nhe is much better than his regular season stats. He is also a lot\\nfo fun to watch in the playoffs. Bowman should let JAgr have a lot of\\nfun in the next couple of games since the Pens are going to beat the pulp out of Jersey anyway. I was very disappointed not to see the Islanders lose the final\\nregular season game.          PENS RULE!!!\\n\\n\",\n",
       " array([0., 0., 0., 0., 0., 0., 0., 0., 0., 0., 1., 0., 0., 0., 0., 0., 0.,\n",
       "        0., 0., 0.], dtype=float32))"
      ]
     },
     "execution_count": 56,
     "metadata": {},
     "output_type": "execute_result"
    }
   ],
   "source": [
    "X[0], y[0]"
   ]
  },
  {
   "cell_type": "code",
   "execution_count": 57,
   "metadata": {},
   "outputs": [
    {
     "name": "stdout",
     "output_type": "stream",
     "text": [
      "\n",
      "\n",
      "I am sure some bashers of Pens fans are pretty confused about the lack\n",
      "of any kind of posts about the recent Pens massacre of the Devils. Actually,\n",
      "I am  bit puzzled too and a bit relieved. However, I am going to put an end\n",
      "to non-PIttsburghers' relief with a bit of praise for the Pens. Man, they\n",
      "are killing those Devils worse than I thought. Jagr just showed you why\n",
      "he is much better than his regular season stats. He is also a lot\n",
      "fo fun to watch in the playoffs. Bowman should let JAgr have a lot of\n",
      "fun in the next couple of games since the Pens are going to beat the pulp out of Jersey anyway. I was very disappointed not to see the Islanders lose the final\n",
      "regular season game.          PENS RULE!!!\n",
      "\n",
      "\n"
     ]
    }
   ],
   "source": [
    "print(\"\\n\".join(X[0].split(\"\\n\")[:]))"
   ]
  },
  {
   "cell_type": "code",
   "execution_count": 71,
   "metadata": {},
   "outputs": [],
   "source": [
    "tokenizer = Tokenizer(num_words = 10000, lower = True)\n",
    "tokenizer.fit_on_texts(X)\n",
    "X_seq = tokenizer.texts_to_sequences(X)"
   ]
  },
  {
   "cell_type": "code",
   "execution_count": 72,
   "metadata": {},
   "outputs": [],
   "source": [
    "dictionary = tokenizer.word_index"
   ]
  },
  {
   "cell_type": "code",
   "execution_count": 103,
   "metadata": {},
   "outputs": [],
   "source": [
    "X_seq_pad = pad_sequences(X_seq, maxlen = 1000, padding = 'post')"
   ]
  },
  {
   "cell_type": "code",
   "execution_count": 104,
   "metadata": {},
   "outputs": [],
   "source": [
    "np.random.seed(20202020)\n",
    "indices = np.arange(X_seq_pad.shape[0])\n",
    "np.random.shuffle(indices)\n",
    "\n",
    "X_seq_pad = X_seq_pad[indices]\n",
    "y = y[indices]\n",
    "\n",
    "test_indices = int(0.2 * X_seq_pad.shape[0])\n",
    "\n",
    "X_train = X_seq_pad[:-test_indices]\n",
    "y_train = y[:-test_indices]\n",
    "X_test = X_seq_pad[-test_indices:]\n",
    "y_test = y[-test_indices:]"
   ]
  },
  {
   "cell_type": "code",
   "execution_count": 105,
   "metadata": {},
   "outputs": [
    {
     "data": {
      "text/plain": [
       "((15077, 1000), (15077, 20), (3769, 1000), (3769, 20))"
      ]
     },
     "execution_count": 105,
     "metadata": {},
     "output_type": "execute_result"
    }
   ],
   "source": [
    "X_train.shape, y_train.shape, X_test.shape, y_test.shape"
   ]
  },
  {
   "cell_type": "code",
   "execution_count": 163,
   "metadata": {},
   "outputs": [],
   "source": [
    "embed_size = 10\n",
    "max_length = 1000\n",
    "\n",
    "input = Input(shape = (max_length, ))\n",
    "embedding = Embedding(input_dim = len(dictionary) + 1, \n",
    "                      output_dim = embed_size, \n",
    "                      input_length = max_length)(input)\n",
    "\n",
    "conv1 = Conv1D(256, 5, activation = 'relu')(embedding) \n",
    "pool1 = MaxPooling1D(5)(conv1) \n",
    "\n",
    "conv2 = Conv1D(256, 5, activation = 'relu')(pool1) \n",
    "pool2 = MaxPooling1D(5)(conv2) \n",
    "\n",
    "flatten = Flatten()(pool2)\n",
    "dense = Dense(128, activation = 'relu')(flatten)\n",
    "\n",
    "output = Dense(y_train.shape[1], activation='softmax')(dense)\n",
    "\n",
    "model = Model(inputs = input, \n",
    "              outputs = output)\n",
    "\n",
    "model.compile(optimizer = 'adam', \n",
    "              loss = 'categorical_crossentropy', \n",
    "              metrics = ['accuracy'])"
   ]
  },
  {
   "cell_type": "code",
   "execution_count": 164,
   "metadata": {},
   "outputs": [
    {
     "name": "stdout",
     "output_type": "stream",
     "text": [
      "Model: \"model_16\"\n",
      "_________________________________________________________________\n",
      "Layer (type)                 Output Shape              Param #   \n",
      "=================================================================\n",
      "input_16 (InputLayer)        (None, 1000)              0         \n",
      "_________________________________________________________________\n",
      "embedding_16 (Embedding)     (None, 1000, 10)          1394900   \n",
      "_________________________________________________________________\n",
      "conv1d_26 (Conv1D)           (None, 996, 256)          13056     \n",
      "_________________________________________________________________\n",
      "max_pooling1d_26 (MaxPooling (None, 199, 256)          0         \n",
      "_________________________________________________________________\n",
      "conv1d_27 (Conv1D)           (None, 195, 256)          327936    \n",
      "_________________________________________________________________\n",
      "max_pooling1d_27 (MaxPooling (None, 39, 256)           0         \n",
      "_________________________________________________________________\n",
      "flatten_16 (Flatten)         (None, 9984)              0         \n",
      "_________________________________________________________________\n",
      "dense_29 (Dense)             (None, 128)               1278080   \n",
      "_________________________________________________________________\n",
      "dense_30 (Dense)             (None, 20)                2580      \n",
      "=================================================================\n",
      "Total params: 3,016,552\n",
      "Trainable params: 3,016,552\n",
      "Non-trainable params: 0\n",
      "_________________________________________________________________\n"
     ]
    }
   ],
   "source": [
    "model.summary()"
   ]
  },
  {
   "cell_type": "code",
   "execution_count": 166,
   "metadata": {},
   "outputs": [
    {
     "data": {
      "image/png": "[encoded data removed]",
      "text/plain": [
       "<Figure size 864x576 with 2 Axes>"
      ]
     },
     "metadata": {
      "needs_background": "light"
     },
     "output_type": "display_data"
    },
    {
     "name": "stdout",
     "output_type": "stream",
     "text": [
      "accuracy\n",
      "\tvalidation       \t (min:    0.079, max:    0.533, cur:    0.533)\n",
      "\ttraining         \t (min:    0.066, max:    0.903, cur:    0.852)\n",
      "Loss\n",
      "\tvalidation       \t (min:    1.733, max:    3.699, cur:    2.698)\n",
      "\ttraining         \t (min:    0.451, max:    2.968, cur:    0.451)\n"
     ]
    },
    {
     "data": {
      "text/plain": [
       "<keras.callbacks.callbacks.History at 0x20a599a1288>"
      ]
     },
     "execution_count": 166,
     "metadata": {},
     "output_type": "execute_result"
    }
   ],
   "source": [
    "model.fit(X_train, y_train, epochs = 4, \n",
    "          callbacks = [PlotLossesKeras()],\n",
    "                       #EarlyStopping(monitor = 'val_loss', patience = 5)], \n",
    "          validation_data = (X_test, y_test))"
   ]
  },
  {
   "cell_type": "code",
   "execution_count": 169,
   "metadata": {},
   "outputs": [
    {
     "name": "stdout",
     "output_type": "stream",
     "text": [
      "15077/15077 [==============================] - 41s 3ms/step\n"
     ]
    },
    {
     "data": {
      "text/plain": [
       "[0.34557065658171, 0.8942760229110718]"
      ]
     },
     "execution_count": 169,
     "metadata": {},
     "output_type": "execute_result"
    }
   ],
   "source": [
    "model.evaluate(X_train, y_train)"
   ]
  },
  {
   "cell_type": "code",
   "execution_count": 127,
   "metadata": {},
   "outputs": [],
   "source": [
    "def test_text(string):\n",
    "    string = [string]\n",
    "    tokenized = tokenizer.texts_to_sequences(string)\n",
    "    padded = pad_sequences(tokenized, maxlen = 1000, padding = 'post')\n",
    "    return(padded)\n",
    "\n",
    "def prediction_results(text, model_name):\n",
    "    text = test_text(text)\n",
    "    model = model_name\n",
    "    predictions_list = model.predict(text).tolist()[0]\n",
    "    predictions_dict = {v: k for v, k in enumerate(predictions_list)}\n",
    "    predictions = pd.DataFrame(predictions_dict.items())\n",
    "    predictions = predictions.rename(columns={0: 'label', 1: 'prediction'})\n",
    "    predictions = predictions.merge(labels, on = ['label'])\n",
    "    return(predictions.sort_values(by = ['prediction'], ascending = False).head(5))"
   ]
  },
  {
   "cell_type": "code",
   "execution_count": 208,
   "metadata": {},
   "outputs": [
    {
     "data": {
      "text/html": [
       "<div>\n",
       "<style scoped>\n",
       "    .dataframe tbody tr th:only-of-type {\n",
       "        vertical-align: middle;\n",
       "    }\n",
       "\n",
       "    .dataframe tbody tr th {\n",
       "        vertical-align: top;\n",
       "    }\n",
       "\n",
       "    .dataframe thead th {\n",
       "        text-align: right;\n",
       "    }\n",
       "</style>\n",
       "<table border=\"1\" class=\"dataframe\">\n",
       "  <thead>\n",
       "    <tr style=\"text-align: right;\">\n",
       "      <th></th>\n",
       "      <th>label</th>\n",
       "      <th>prediction</th>\n",
       "      <th>news_topic</th>\n",
       "    </tr>\n",
       "  </thead>\n",
       "  <tbody>\n",
       "    <tr>\n",
       "      <th>7</th>\n",
       "      <td>7</td>\n",
       "      <td>0.717308</td>\n",
       "      <td>rec.autos</td>\n",
       "    </tr>\n",
       "    <tr>\n",
       "      <th>8</th>\n",
       "      <td>8</td>\n",
       "      <td>0.251864</td>\n",
       "      <td>rec.motorcycles</td>\n",
       "    </tr>\n",
       "    <tr>\n",
       "      <th>12</th>\n",
       "      <td>12</td>\n",
       "      <td>0.024810</td>\n",
       "      <td>sci.electronics</td>\n",
       "    </tr>\n",
       "    <tr>\n",
       "      <th>6</th>\n",
       "      <td>6</td>\n",
       "      <td>0.004483</td>\n",
       "      <td>misc.forsale</td>\n",
       "    </tr>\n",
       "    <tr>\n",
       "      <th>4</th>\n",
       "      <td>4</td>\n",
       "      <td>0.001411</td>\n",
       "      <td>comp.sys.mac.hardware</td>\n",
       "    </tr>\n",
       "  </tbody>\n",
       "</table>\n",
       "</div>"
      ],
      "text/plain": [
       "    label  prediction             news_topic\n",
       "7       7    0.717308              rec.autos\n",
       "8       8    0.251864        rec.motorcycles\n",
       "12     12    0.024810        sci.electronics\n",
       "6       6    0.004483           misc.forsale\n",
       "4       4    0.001411  comp.sys.mac.hardware"
      ]
     },
     "execution_count": 208,
     "metadata": {},
     "output_type": "execute_result"
    }
   ],
   "source": [
    "text = \"My mechanic told me I better change the oil and my tires.\"\n",
    "prediction_results(text)"
   ]
  },
  {
   "cell_type": "markdown",
   "metadata": {},
   "source": [
    "### C.3 Leveraging the FastText pre-trained vectors"
   ]
  },
  {
   "cell_type": "code",
   "execution_count": 6,
   "metadata": {},
   "outputs": [],
   "source": [
    "from gensim.models import KeyedVectors"
   ]
  },
  {
   "cell_type": "markdown",
   "metadata": {},
   "source": [
    "Downloaded the FastText vectors from fasttext.cc (https://fasttext.cc/docs/en/english-vectors.html). About 2-2.5Gb text file, loading in via gensim"
   ]
  },
  {
   "cell_type": "code",
   "execution_count": 7,
   "metadata": {},
   "outputs": [],
   "source": [
    "ft = KeyedVectors.load_word2vec_format('../../wiki-news-300d-1M.vec', binary = False)"
   ]
  },
  {
   "cell_type": "code",
   "execution_count": 15,
   "metadata": {},
   "outputs": [
    {
     "data": {
      "text/plain": [
       "[('President', 0.8171877861022949),\n",
       " ('vice-president', 0.7835717797279358),\n",
       " ('presidents', 0.7247464656829834),\n",
       " ('CEO', 0.7144116759300232),\n",
       " ('chairman', 0.7079751491546631),\n",
       " ('president-elect', 0.6815338134765625),\n",
       " ('presidency', 0.6793253421783447),\n",
       " ('Vice-President', 0.6599993705749512),\n",
       " ('presdient', 0.659398078918457),\n",
       " ('president-', 0.6491169929504395)]"
      ]
     },
     "execution_count": 15,
     "metadata": {},
     "output_type": "execute_result"
    }
   ],
   "source": [
    "ft.similar_by_word('president')"
   ]
  },
  {
   "cell_type": "code",
   "execution_count": 18,
   "metadata": {},
   "outputs": [
    {
     "data": {
      "text/plain": [
       "0.7835718"
      ]
     },
     "execution_count": 18,
     "metadata": {},
     "output_type": "execute_result"
    }
   ],
   "source": [
    "ft.similarity('president', 'vice-president')"
   ]
  },
  {
   "cell_type": "code",
   "execution_count": 25,
   "metadata": {},
   "outputs": [
    {
     "data": {
      "text/plain": [
       "0.8093573"
      ]
     },
     "execution_count": 25,
     "metadata": {},
     "output_type": "execute_result"
    }
   ],
   "source": [
    "ft.n_similarity(['President', 'Facebook'], ['CEO', 'Twitter'])"
   ]
  },
  {
   "cell_type": "code",
   "execution_count": 26,
   "metadata": {
    "scrolled": true
   },
   "outputs": [
    {
     "data": {
      "text/plain": [
       "array([ 1.083e-01,  9.380e-02, -1.191e-01,  3.630e-02,  3.480e-02,\n",
       "        9.400e-03, -1.303e-01,  9.220e-02,  7.100e-02, -1.672e-01,\n",
       "       -1.043e-01,  1.329e-01,  1.170e-02, -1.229e-01,  3.520e-02,\n",
       "       -5.530e-02, -3.390e-02, -1.720e-02,  1.352e-01, -4.940e-02,\n",
       "       -1.342e-01, -3.380e-02, -5.190e-02, -1.668e-01,  1.468e-01,\n",
       "       -1.126e-01,  2.690e-02,  1.030e-01,  1.302e-01, -4.750e-02,\n",
       "        2.320e-02, -5.180e-02, -9.730e-02, -1.443e-01,  8.040e-02,\n",
       "       -5.400e-03, -6.440e-02,  6.230e-02, -7.510e-02,  1.021e-01,\n",
       "       -5.200e-03,  6.090e-02, -7.280e-02, -2.400e-03,  8.710e-02,\n",
       "       -1.212e-01, -3.510e-02, -3.060e-02,  1.630e-02, -1.240e-02,\n",
       "        1.425e-01, -2.700e-02, -6.443e-01,  8.070e-02,  6.010e-02,\n",
       "        7.650e-02, -1.018e-01,  5.730e-02, -6.110e-02, -3.690e-02,\n",
       "        7.600e-03,  1.060e-02,  9.480e-02, -5.970e-02, -8.000e-03,\n",
       "       -2.720e-02,  1.281e-01, -4.780e-02,  8.320e-02,  3.730e-02,\n",
       "       -2.860e-02, -1.417e-01, -4.590e-02, -4.770e-02,  3.600e-02,\n",
       "        1.041e-01, -1.060e-02, -1.670e-02, -8.770e-02,  4.900e-02,\n",
       "        3.630e-02,  1.087e-01,  9.120e-02, -2.811e-01, -8.810e-02,\n",
       "       -3.230e-02, -1.120e-02,  2.700e-02,  7.130e-02,  5.000e-04,\n",
       "       -8.120e-02, -1.710e-02, -1.270e-02, -2.890e-02,  2.320e-02,\n",
       "        1.421e-01, -1.238e-01,  3.040e-02, -6.910e-02,  2.382e-01,\n",
       "       -1.285e-01, -1.519e-01,  1.100e-02, -2.770e-02, -2.906e-01,\n",
       "       -5.820e-02,  9.480e-02,  5.510e-02, -2.129e-01,  7.920e-02,\n",
       "       -8.000e-04, -3.420e-02,  3.190e-02,  8.340e-02, -2.570e-02,\n",
       "       -9.150e-02,  3.280e-02, -9.260e-02,  2.387e-01, -3.772e-01,\n",
       "        8.830e-02,  5.180e-02, -1.115e-01, -2.111e-01,  3.020e-02,\n",
       "        1.548e-01,  2.430e-02, -2.660e-02,  2.290e-01,  2.650e-02,\n",
       "        1.133e-01,  1.145e-01, -7.060e-02, -6.940e-02, -3.240e-02,\n",
       "       -4.930e-02,  2.840e-02,  1.600e-03, -1.949e-01, -1.185e-01,\n",
       "        4.250e-02, -5.080e-02, -8.400e-03,  6.490e-02,  1.214e-01,\n",
       "        1.040e-02, -1.080e-02,  1.074e-01,  1.044e-01,  1.350e-02,\n",
       "        1.230e-01,  3.600e-02,  6.820e-02,  1.516e-01, -1.197e-01,\n",
       "        3.710e-02,  1.720e-02,  4.900e-03, -4.440e-02,  8.450e-02,\n",
       "       -4.400e-03, -1.146e-01, -8.220e-02,  6.490e-02,  9.130e-02,\n",
       "        2.200e-02,  2.450e-02, -1.304e-01, -1.003e-01, -2.250e-02,\n",
       "        1.079e-01, -2.112e-01,  7.800e-02, -1.440e-02,  9.540e-02,\n",
       "        1.237e-01,  1.962e-01,  1.423e-01, -1.817e-01,  1.510e-02,\n",
       "        1.210e-02,  1.570e-02,  8.700e-03, -1.464e-01, -2.790e-02,\n",
       "       -6.730e-02,  5.570e-02,  2.100e-03, -1.253e-01, -4.800e-02,\n",
       "       -3.000e-04,  1.020e-02,  1.070e-02, -2.800e-02,  5.740e-02,\n",
       "       -3.910e-02,  1.400e-03,  3.700e-02,  2.021e-01, -8.700e-03,\n",
       "       -6.470e-02,  1.380e-02, -8.920e-02,  4.070e-02, -2.300e-02,\n",
       "        3.470e-02,  1.090e-01,  9.830e-02, -7.840e-02, -1.533e-01,\n",
       "       -4.970e-02,  9.450e-02,  1.008e-01, -8.310e-02,  6.380e-02,\n",
       "       -1.722e-01,  4.350e-02,  4.000e-03,  4.060e-02,  4.140e-02,\n",
       "        1.637e-01,  3.960e-02,  5.790e-02, -8.260e-02, -9.530e-02,\n",
       "       -1.921e-01,  1.474e-01,  3.740e-02, -6.140e-02,  1.275e-01,\n",
       "       -2.694e-01,  2.360e-02,  3.532e-01,  8.500e-03, -1.509e-01,\n",
       "       -1.700e-03, -1.836e-01,  1.892e-01, -2.650e-01,  9.410e-02,\n",
       "       -1.188e-01, -2.120e-02, -1.080e-02,  3.190e-02,  3.520e-02,\n",
       "        4.280e-02,  7.410e-02,  4.320e-02,  6.020e-02,  3.555e-01,\n",
       "        3.610e-02, -3.160e-02, -1.409e-01, -3.460e-02,  1.382e-01,\n",
       "        6.890e-02, -6.140e-02,  6.050e-02,  2.670e-02, -1.437e-01,\n",
       "       -5.150e-02,  5.260e-02, -7.310e-02,  2.020e-02, -4.043e-01,\n",
       "        5.810e-02,  1.480e-02, -5.390e-02, -2.665e-01, -2.500e-03,\n",
       "       -8.140e-02, -1.570e-02,  3.660e-02, -1.293e-01, -2.400e-03,\n",
       "        1.533e-01,  6.480e-02, -7.930e-02,  2.580e-02, -3.350e-02,\n",
       "       -3.600e-02,  3.040e-02,  8.200e-03,  4.470e-02,  7.140e-02,\n",
       "        6.810e-02, -1.177e-01,  5.680e-02, -1.171e-01, -4.340e-02,\n",
       "       -5.070e-02, -1.322e-01,  1.493e-01,  1.053e-01,  4.100e-03,\n",
       "       -4.400e-02, -6.240e-02,  3.640e-02, -7.450e-02,  7.700e-03],\n",
       "      dtype=float32)"
      ]
     },
     "execution_count": 26,
     "metadata": {},
     "output_type": "execute_result"
    }
   ],
   "source": [
    "ft.get_vector('president')"
   ]
  },
  {
   "cell_type": "code",
   "execution_count": 110,
   "metadata": {},
   "outputs": [],
   "source": [
    "embed_dim = 300 # fasttext stores 300 vectors per word\n",
    "embed_matrix = np.zeros((len(dictionary) + 1, embed_dim))\n",
    "\n",
    "for word, i in dictionary.items():\n",
    "    if word in ft:\n",
    "        embed_vector = ft.get_vector(word)\n",
    "        embed_matrix[i] = embed_vector"
   ]
  },
  {
   "cell_type": "code",
   "execution_count": 124,
   "metadata": {},
   "outputs": [],
   "source": [
    "embed_size = 300\n",
    "max_length = 1000\n",
    "\n",
    "input = Input(shape = (max_length, ))\n",
    "embedding = Embedding(input_dim = len(dictionary) + 1, \n",
    "                      output_dim = embed_size, \n",
    "                      weights = [embed_matrix],\n",
    "                      input_length = max_length,\n",
    "                      trainable = False)(input)\n",
    "\n",
    "conv1 = Conv1D(256, 10, activation = 'relu')(embedding) \n",
    "pool1 = MaxPooling1D(5)(conv1) \n",
    "\n",
    "conv2 = Conv1D(256, 10, activation = 'relu')(pool1) \n",
    "pool2 = MaxPooling1D(5)(conv2) \n",
    "\n",
    "flatten = Flatten()(pool2)\n",
    "dense = Dense(128, activation = 'relu')(flatten)\n",
    "\n",
    "output = Dense(y_train.shape[1], activation='softmax')(dense)\n",
    "\n",
    "model = Model(inputs = input, \n",
    "              outputs = output)\n",
    "\n",
    "model.compile(optimizer = 'adam', \n",
    "              loss = 'categorical_crossentropy', \n",
    "              metrics = ['accuracy'])"
   ]
  },
  {
   "cell_type": "code",
   "execution_count": 125,
   "metadata": {},
   "outputs": [
    {
     "name": "stdout",
     "output_type": "stream",
     "text": [
      "Model: \"model_3\"\n",
      "_________________________________________________________________\n",
      "Layer (type)                 Output Shape              Param #   \n",
      "=================================================================\n",
      "input_4 (InputLayer)         (None, 1000)              0         \n",
      "_________________________________________________________________\n",
      "embedding_5 (Embedding)      (None, 1000, 300)         41846700  \n",
      "_________________________________________________________________\n",
      "conv1d_5 (Conv1D)            (None, 991, 256)          768256    \n",
      "_________________________________________________________________\n",
      "max_pooling1d_5 (MaxPooling1 (None, 198, 256)          0         \n",
      "_________________________________________________________________\n",
      "conv1d_6 (Conv1D)            (None, 189, 256)          655616    \n",
      "_________________________________________________________________\n",
      "max_pooling1d_6 (MaxPooling1 (None, 37, 256)           0         \n",
      "_________________________________________________________________\n",
      "flatten_3 (Flatten)          (None, 9472)              0         \n",
      "_________________________________________________________________\n",
      "dense_5 (Dense)              (None, 128)               1212544   \n",
      "_________________________________________________________________\n",
      "dense_6 (Dense)              (None, 20)                2580      \n",
      "=================================================================\n",
      "Total params: 44,485,696\n",
      "Trainable params: 2,638,996\n",
      "Non-trainable params: 41,846,700\n",
      "_________________________________________________________________\n"
     ]
    }
   ],
   "source": [
    "model.summary()"
   ]
  },
  {
   "cell_type": "code",
   "execution_count": 126,
   "metadata": {},
   "outputs": [
    {
     "data": {
      "image/png": "[encoded data removed]",
      "text/plain": [
       "<Figure size 864x576 with 2 Axes>"
      ]
     },
     "metadata": {
      "needs_background": "light"
     },
     "output_type": "display_data"
    },
    {
     "name": "stdout",
     "output_type": "stream",
     "text": [
      "accuracy\n",
      "\tvalidation       \t (min:    0.400, max:    0.634, cur:    0.579)\n",
      "\ttraining         \t (min:    0.226, max:    0.797, cur:    0.756)\n",
      "Loss\n",
      "\tvalidation       \t (min:    1.180, max:    1.702, cur:    1.418)\n",
      "\ttraining         \t (min:    0.634, max:    2.296, cur:    0.701)\n"
     ]
    },
    {
     "data": {
      "text/plain": [
       "<keras.callbacks.callbacks.History at 0x2638781d748>"
      ]
     },
     "execution_count": 126,
     "metadata": {},
     "output_type": "execute_result"
    }
   ],
   "source": [
    "model.fit(X_train, y_train, epochs = 4, \n",
    "          callbacks = [PlotLossesKeras()],\n",
    "                       #EarlyStopping(monitor = 'val_loss', patience = 5)], \n",
    "          validation_data = (X_test, y_test))"
   ]
  },
  {
   "cell_type": "code",
   "execution_count": 132,
   "metadata": {},
   "outputs": [
    {
     "data": {
      "text/html": [
       "<div>\n",
       "<style scoped>\n",
       "    .dataframe tbody tr th:only-of-type {\n",
       "        vertical-align: middle;\n",
       "    }\n",
       "\n",
       "    .dataframe tbody tr th {\n",
       "        vertical-align: top;\n",
       "    }\n",
       "\n",
       "    .dataframe thead th {\n",
       "        text-align: right;\n",
       "    }\n",
       "</style>\n",
       "<table border=\"1\" class=\"dataframe\">\n",
       "  <thead>\n",
       "    <tr style=\"text-align: right;\">\n",
       "      <th></th>\n",
       "      <th>label</th>\n",
       "      <th>prediction</th>\n",
       "      <th>news_topic</th>\n",
       "    </tr>\n",
       "  </thead>\n",
       "  <tbody>\n",
       "    <tr>\n",
       "      <th>7</th>\n",
       "      <td>7</td>\n",
       "      <td>0.698574</td>\n",
       "      <td>rec.autos</td>\n",
       "    </tr>\n",
       "    <tr>\n",
       "      <th>8</th>\n",
       "      <td>8</td>\n",
       "      <td>0.285597</td>\n",
       "      <td>rec.motorcycles</td>\n",
       "    </tr>\n",
       "    <tr>\n",
       "      <th>9</th>\n",
       "      <td>9</td>\n",
       "      <td>0.009100</td>\n",
       "      <td>rec.sport.baseball</td>\n",
       "    </tr>\n",
       "    <tr>\n",
       "      <th>12</th>\n",
       "      <td>12</td>\n",
       "      <td>0.002840</td>\n",
       "      <td>sci.electronics</td>\n",
       "    </tr>\n",
       "    <tr>\n",
       "      <th>6</th>\n",
       "      <td>6</td>\n",
       "      <td>0.001520</td>\n",
       "      <td>misc.forsale</td>\n",
       "    </tr>\n",
       "  </tbody>\n",
       "</table>\n",
       "</div>"
      ],
      "text/plain": [
       "    label  prediction          news_topic\n",
       "7       7    0.698574           rec.autos\n",
       "8       8    0.285597     rec.motorcycles\n",
       "9       9    0.009100  rec.sport.baseball\n",
       "12     12    0.002840     sci.electronics\n",
       "6       6    0.001520        misc.forsale"
      ]
     },
     "execution_count": 132,
     "metadata": {},
     "output_type": "execute_result"
    }
   ],
   "source": [
    "text = \"My mechanic told me I better change the oil and my tires.\"\n",
    "prediction_results(text, model)"
   ]
  },
  {
   "cell_type": "code",
   "execution_count": null,
   "metadata": {},
   "outputs": [],
   "source": []
  },
  {
   "cell_type": "markdown",
   "metadata": {},
   "source": [
    "### C.4 Finding most similar articles"
   ]
  },
  {
   "cell_type": "code",
   "execution_count": null,
   "metadata": {},
   "outputs": [],
   "source": []
  }
 ],
 "metadata": {
  "kernelspec": {
   "display_name": "Python 3",
   "language": "python",
   "name": "python3"
  },
  "language_info": {
   "codemirror_mode": {
    "name": "ipython",
    "version": 3
   },
   "file_extension": ".py",
   "mimetype": "text/x-python",
   "name": "python",
   "nbconvert_exporter": "python",
   "pygments_lexer": "ipython3",
   "version": "3.7.7"
  }
 },
 "nbformat": 4,
 "nbformat_minor": 4
}
