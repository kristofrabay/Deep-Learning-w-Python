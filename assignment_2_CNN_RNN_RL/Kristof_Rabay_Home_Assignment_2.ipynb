{
 "cells": [
  {
   "cell_type": "markdown",
   "metadata": {},
   "source": [
    "# Deep Learning w/ Python\n",
    "\n",
    "## Home Assignment II. by Kristof Rabay - CNN, Reinforcement Learning\n",
    "\n",
    "---"
   ]
  },
  {
   "cell_type": "markdown",
   "metadata": {},
   "source": [
    "## C) Newsgroups similarity\n",
    "\n",
    "In our newsgroups example, the model accuracy on the test set was pretty lackluster. Improve the model by creating a more clever trainset, try out FastText embedding and use more topics (preferably all of them). Create a function which receives a document as text, and prints out the `n` most similar document from the newsgroups dataset."
   ]
  },
  {
   "cell_type": "code",
   "execution_count": null,
   "metadata": {},
   "outputs": [],
   "source": [
    "# embedding\n",
    "# acc should be boosted by extra optimization steps\n",
    "# better train set\n",
    "# fasttext\n",
    "# more topics\n",
    "\n",
    "# function receives doc of text\n",
    "# print n most similar doc from dataser\n",
    "# small recommender system"
   ]
  },
  {
   "cell_type": "code",
   "execution_count": null,
   "metadata": {},
   "outputs": [],
   "source": []
  },
  {
   "cell_type": "code",
   "execution_count": null,
   "metadata": {},
   "outputs": [],
   "source": []
  },
  {
   "cell_type": "code",
   "execution_count": null,
   "metadata": {},
   "outputs": [],
   "source": []
  },
  {
   "cell_type": "markdown",
   "metadata": {},
   "source": [
    "## D) Rock-Paper-Scissors-Lizard-Spock\n",
    "\n",
    "Build a network which is able to play Rock-Paper-Scissors-Lizard-Spock. The input of the network is a low-resolution picture of any of the possible 5 hands and output is also an image which counters the input hand. Feel free to use any kind of pre-existing image / pictogram / drawing /icon as training / test dataset, or even take the pictures yourself.  \n",
    "Suggestion: first build a model using encoded values, and extend your solution once you have a working model. "
   ]
  },
  {
   "cell_type": "code",
   "execution_count": null,
   "metadata": {},
   "outputs": [],
   "source": [
    "# play the game\n",
    "# observe low res images\n",
    "# winning hand shall be produced\n",
    "\n",
    "# lstm"
   ]
  },
  {
   "cell_type": "code",
   "execution_count": null,
   "metadata": {},
   "outputs": [],
   "source": []
  },
  {
   "cell_type": "code",
   "execution_count": null,
   "metadata": {},
   "outputs": [],
   "source": []
  },
  {
   "cell_type": "code",
   "execution_count": null,
   "metadata": {},
   "outputs": [],
   "source": []
  },
  {
   "cell_type": "markdown",
   "metadata": {},
   "source": [
    "## F) Walking in the GYM \n",
    "\n",
    "Solve the [bipedal walker problem](https://gym.openai.com/envs/BipedalWalker-v2/) using Deep Q-Networks.  \n",
    "The gym environment available as `BipedalWalker-v2`."
   ]
  },
  {
   "cell_type": "code",
   "execution_count": null,
   "metadata": {},
   "outputs": [],
   "source": [
    "# deep q network\n",
    "# achieve walking agent"
   ]
  },
  {
   "cell_type": "code",
   "execution_count": null,
   "metadata": {},
   "outputs": [],
   "source": []
  },
  {
   "cell_type": "code",
   "execution_count": null,
   "metadata": {},
   "outputs": [],
   "source": []
  },
  {
   "cell_type": "code",
   "execution_count": 1,
   "metadata": {},
   "outputs": [],
   "source": [
    "## G) deep neural network project idea"
   ]
  },
  {
   "cell_type": "code",
   "execution_count": null,
   "metadata": {},
   "outputs": [],
   "source": []
  }
 ],
 "metadata": {
  "kernelspec": {
   "display_name": "Python 3",
   "language": "python",
   "name": "python3"
  },
  "language_info": {
   "codemirror_mode": {
    "name": "ipython",
    "version": 3
   },
   "file_extension": ".py",
   "mimetype": "text/x-python",
   "name": "python",
   "nbconvert_exporter": "python",
   "pygments_lexer": "ipython3",
   "version": "3.7.7"
  }
 },
 "nbformat": 4,
 "nbformat_minor": 4
}
