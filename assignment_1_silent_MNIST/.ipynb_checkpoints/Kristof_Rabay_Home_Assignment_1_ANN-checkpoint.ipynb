{
 "cells": [
  {
   "cell_type": "markdown",
   "metadata": {},
   "source": [
    "<img src=\"./pics/DL.png\" width=110 align=\"left\" style=\"margin-right: 10px\">\n",
    "\n",
    "# Deep Learning w/ Python\n",
    "\n",
    "## Home Assignment I. by Kristof Rabay - ANN\n",
    "\n",
    "---"
   ]
  },
  {
   "cell_type": "markdown",
   "metadata": {},
   "source": [
    "## Silent MNIST\n",
    "\n",
    "<p><a href=\"https://commons.wikimedia.org/wiki/File:%D9%84%D8%BA%D8%A9_%D8%A7%D9%84%D8%A7%D8%B4%D8%A7%D8%B1%D8%A9_%D8%A7%D9%84%D8%A7%D9%85%D8%B1%D9%8A%D9%83%D9%8A%D8%A9.png#/media/File:لغة_الاشارة_الامريكية.png\"><img src=\"./pics/exercises/silent_mnist.png\" width=400></a><br>By <a href=\"//commons.wikimedia.org/w/index.php?title=User:Krzys_kurd&amp;action=edit&amp;redlink=1\" class=\"new\" title=\"User:Krzys kurd (page does not exist)\">Krzys kurd</a> - <span class=\"int-own-work\" lang=\"en\">Own work</span>, <a href=\"https://creativecommons.org/licenses/by-sa/3.0\" title=\"Creative Commons Attribution-Share Alike 3.0\">CC BY-SA 3.0</a>, <a href=\"https://commons.wikimedia.org/w/index.php?curid=24699115\">Link</a></p>\n",
    "\n",
    "### Description\n",
    "\n",
    "Create a silent number detector using the different pictures taken of the signers hands. Your task is to create a neural network to solve this problem, using dense layers. You are free to use any kind of preprocessing or any kind of transformation on the data, and you can use any discussed methods.  \n",
    "Your designed solution must be presented in a form of clean, structured and well commented code. Descriptions should include the designed network layouts and the reasoning behind the choices. The final results should be highlighted, saved ([tutorial](https://machinelearningmastery.com/save-load-keras-deep-learning-models/)) and easily reproduceable.  \n",
    "Creating parametrizable functions to dynamically generate networks is a plus.\n",
    "\n",
    "### About the data\n",
    "\n",
    "The pictures are already preprocessed and transformed into greyscale image matrices.  \n",
    "The target variable is the value of the associated sign in one-hot encoded form.  \n",
    "Both feature matrix and target vectors are available as numpy arrays and can be found in the `data/sign_language/` folder. You can read `.npy` numpy array files with the `np.load(\"path_to_file.npy\")` function."
   ]
  },
  {
   "cell_type": "markdown",
   "metadata": {},
   "source": [
    "# Solution"
   ]
  },
  {
   "cell_type": "markdown",
   "metadata": {},
   "source": [
    "## 1. Let's read in the data to work with"
   ]
  },
  {
   "cell_type": "code",
   "execution_count": 1,
   "metadata": {},
   "outputs": [],
   "source": [
    "import pandas as pd\n",
    "import numpy as np\n",
    "import matplotlib.pyplot as plt\n",
    "import os"
   ]
  },
  {
   "cell_type": "code",
   "execution_count": 2,
   "metadata": {},
   "outputs": [
    {
     "data": {
      "text/plain": [
       "'C:\\\\Users\\\\Krisz\\\\Desktop\\\\ceu\\\\materials\\\\spring\\\\dl_py\\\\deep_learning'"
      ]
     },
     "execution_count": 2,
     "metadata": {},
     "output_type": "execute_result"
    }
   ],
   "source": [
    "os.getcwd()"
   ]
  },
  {
   "cell_type": "code",
   "execution_count": 3,
   "metadata": {},
   "outputs": [
    {
     "data": {
      "text/plain": [
       "['model.png', 'references.md', 'X.npy', 'y.npy']"
      ]
     },
     "execution_count": 3,
     "metadata": {},
     "output_type": "execute_result"
    }
   ],
   "source": [
    "os.chdir(\"data/sign_language/\")\n",
    "os.listdir()"
   ]
  },
  {
   "cell_type": "code",
   "execution_count": 4,
   "metadata": {},
   "outputs": [],
   "source": [
    "X = np.load(\"X.npy\")\n",
    "y = np.load(\"y.npy\")"
   ]
  },
  {
   "cell_type": "markdown",
   "metadata": {},
   "source": [
    "## 2. How does the data look like?"
   ]
  },
  {
   "cell_type": "markdown",
   "metadata": {},
   "source": [
    "2062 images to train and to test with, respectively\n",
    "\n",
    "X: 64x64 numpy arrays (1 color, 64 * 64 pixels)\n",
    "\n",
    "y: 1x10 numpy arrays (10 possible outcomes)"
   ]
  },
  {
   "cell_type": "code",
   "execution_count": 5,
   "metadata": {},
   "outputs": [
    {
     "data": {
      "text/plain": [
       "((2062, 64, 64), (2062, 10))"
      ]
     },
     "execution_count": 5,
     "metadata": {},
     "output_type": "execute_result"
    }
   ],
   "source": [
    "X.shape, y.shape"
   ]
  },
  {
   "cell_type": "code",
   "execution_count": 6,
   "metadata": {},
   "outputs": [
    {
     "data": {
      "text/plain": [
       "(array([[[0.47450978, 0.46274507, 0.45098037, ..., 0.50196075,\n",
       "          0.5137255 , 0.52549016],\n",
       "         [0.46666664, 0.45098037, 0.43921566, ..., 0.4980392 ,\n",
       "          0.5098039 , 0.52156866],\n",
       "         [0.45490193, 0.43921566, 0.42745095, ..., 0.49411762,\n",
       "          0.50196075, 0.517647  ],\n",
       "         ...,\n",
       "         [0.4470588 , 0.4352941 , 0.4235294 , ..., 0.49019605,\n",
       "          0.4980392 , 0.5058824 ],\n",
       "         [0.45490193, 0.44313723, 0.43137252, ..., 0.4980392 ,\n",
       "          0.5058824 , 0.5137255 ],\n",
       "         [0.46274507, 0.45098037, 0.43921566, ..., 0.50196075,\n",
       "          0.5098039 , 0.52156866]]], dtype=float32),\n",
       " array([[1., 0., 0., 0., 0., 0., 0., 0., 0., 0.]], dtype=float32))"
      ]
     },
     "execution_count": 6,
     "metadata": {},
     "output_type": "execute_result"
    }
   ],
   "source": [
    "X[:1], y[:1]"
   ]
  },
  {
   "cell_type": "markdown",
   "metadata": {},
   "source": [
    "Let's visualize the 1st one to see the actual image!"
   ]
  },
  {
   "cell_type": "code",
   "execution_count": 7,
   "metadata": {},
   "outputs": [
    {
     "data": {
      "image/png": "[encoded data removed]",
      "text/plain": [
       "<Figure size 432x288 with 1 Axes>"
      ]
     },
     "metadata": {
      "needs_background": "light"
     },
     "output_type": "display_data"
    }
   ],
   "source": [
    "plt.imshow(np.squeeze(X[1]), cmap=\"gray\")\n",
    "plt.show()"
   ]
  },
  {
   "cell_type": "markdown",
   "metadata": {},
   "source": [
    "## 3. Importing everything I'll be working with via the Keras API and scikit-learn"
   ]
  },
  {
   "cell_type": "code",
   "execution_count": 8,
   "metadata": {},
   "outputs": [
    {
     "name": "stderr",
     "output_type": "stream",
     "text": [
      "Using TensorFlow backend.\n"
     ]
    }
   ],
   "source": [
    "from keras.models import Sequential\n",
    "from keras.layers import Dense, Activation, Dropout\n",
    "from keras.optimizers import SGD, Adam\n",
    "from keras.regularizers import l1, l2\n",
    "from keras.utils.vis_utils import plot_model\n",
    "from keras.callbacks import EarlyStopping, ReduceLROnPlateau\n",
    "from livelossplot import PlotLossesKeras"
   ]
  },
  {
   "cell_type": "code",
   "execution_count": 9,
   "metadata": {},
   "outputs": [],
   "source": [
    "from sklearn.model_selection import train_test_split"
   ]
  },
  {
   "cell_type": "markdown",
   "metadata": {},
   "source": [
    "## 4. Splitting the X and y to train-test sets"
   ]
  },
  {
   "cell_type": "markdown",
   "metadata": {},
   "source": [
    "It's more important for the model to be generally 'good' (on lots of test datasets) rather than be great on only one dataset."
   ]
  },
  {
   "cell_type": "code",
   "execution_count": 10,
   "metadata": {},
   "outputs": [],
   "source": [
    "X_train, X_test, y_train, y_test = train_test_split(X, y, test_size = 0.2, random_state = 20202020)"
   ]
  },
  {
   "cell_type": "markdown",
   "metadata": {},
   "source": [
    "Let's check if we still see images"
   ]
  },
  {
   "cell_type": "code",
   "execution_count": 11,
   "metadata": {},
   "outputs": [
    {
     "data": {
      "text/plain": [
       "<matplotlib.image.AxesImage at 0x271783a3cc8>"
      ]
     },
     "execution_count": 11,
     "metadata": {},
     "output_type": "execute_result"
    },
    {
     "data": {
      "image/png": "[encoded data removed]",
      "text/plain": [
       "<Figure size 432x288 with 1 Axes>"
      ]
     },
     "metadata": {
      "needs_background": "light"
     },
     "output_type": "display_data"
    }
   ],
   "source": [
    "plt.imshow(X_train[0], cmap = 'gray')"
   ]
  },
  {
   "cell_type": "code",
   "execution_count": 12,
   "metadata": {},
   "outputs": [
    {
     "data": {
      "text/plain": [
       "((1649, 64, 64), (1649, 10))"
      ]
     },
     "execution_count": 12,
     "metadata": {},
     "output_type": "execute_result"
    }
   ],
   "source": [
    "X_train.shape, y_train.shape"
   ]
  },
  {
   "cell_type": "markdown",
   "metadata": {},
   "source": [
    "We're not training CNNs, so let's reshape the arrays to vectors"
   ]
  },
  {
   "cell_type": "code",
   "execution_count": 13,
   "metadata": {},
   "outputs": [],
   "source": [
    "input_shape = 64 * 64\n",
    "\n",
    "X_train = X_train.reshape((X_train.shape[0], input_shape)).astype('float32')\n",
    "X_test = X_test.reshape((X_test.shape[0], input_shape)).astype('float32')"
   ]
  },
  {
   "cell_type": "markdown",
   "metadata": {},
   "source": [
    "I turned the 2062 image arrays into 1649 train + 413 test vectors"
   ]
  },
  {
   "cell_type": "code",
   "execution_count": 14,
   "metadata": {},
   "outputs": [
    {
     "data": {
      "text/plain": [
       "((1649, 4096), (413, 4096))"
      ]
     },
     "execution_count": 14,
     "metadata": {},
     "output_type": "execute_result"
    }
   ],
   "source": [
    "X_train.shape, X_test.shape"
   ]
  },
  {
   "cell_type": "markdown",
   "metadata": {},
   "source": [
    "## 5. Setting up and fitting the model"
   ]
  },
  {
   "cell_type": "code",
   "execution_count": 15,
   "metadata": {},
   "outputs": [],
   "source": [
    "output_classes = y_train.shape[1] # have 10 classes to predict"
   ]
  },
  {
   "cell_type": "markdown",
   "metadata": {},
   "source": [
    "#### Structure\n",
    "\n",
    "- I'll build a simple ANN with Keras API\n",
    "- I'll use 2 dense hidden layers, activated by sigmoid\n",
    "- For the hidden layers I'll apply l1 regularization on the neurons (not the bias)\n",
    "- I'll use dropout layers for further generalization - dropout rate will be set to 25%\n",
    "- My output layer will be activated by softmax (due to >2 categories to predict)\n",
    "\n",
    "#### Compilation\n",
    "\n",
    "- Categorical Cross-Entropy will be used as a loss f(x) (output has been one-hot encoded)\n",
    "- Adam will be leveraged for optimization (keeping default learning rate at 0.001)\n",
    "- Will be monitoring Accuracy\n",
    "\n",
    "#### Callbacks used\n",
    "\n",
    "- I want to change / stop training once validation loss doesn't decrease further\n",
    "1. Learning rate reduction - if for 5 consecutive epochs validation loss doesn't decrease, I'll decrease LR by 1/3\n",
    "2. Early stopping metric - if for 10 consecutive epochs validation loss doesn't decrease, training stops\n",
    "\n",
    "#### Validation\n",
    "\n",
    "- Will be using 20% of train data as validation set (test is held out for final evaluation)"
   ]
  },
  {
   "cell_type": "code",
   "execution_count": 16,
   "metadata": {},
   "outputs": [],
   "source": [
    "model = Sequential()\n",
    "\n",
    "# first hidden layer\n",
    "model.add(Dense(128, input_dim = input_shape, \n",
    "                activation = 'sigmoid', \n",
    "                kernel_regularizer = l1(1e-5)))\n",
    "model.add(Dropout(0.25))\n",
    "\n",
    "# second hidden layer\n",
    "model.add(Dense(128, activation = 'sigmoid', \n",
    "                kernel_regularizer = l1(1e-5)))\n",
    "model.add(Dropout(0.25))\n",
    "\n",
    "# output layer\n",
    "model.add(Dense(output_classes, activation = 'softmax'))\n",
    "\n",
    "# compile the model\n",
    "model.compile(loss = 'categorical_crossentropy', \n",
    "              optimizer = 'adam', \n",
    "              metrics = ['accuracy'])"
   ]
  },
  {
   "cell_type": "code",
   "execution_count": 17,
   "metadata": {},
   "outputs": [],
   "source": [
    "callbacks = [PlotLossesKeras(),\n",
    "             EarlyStopping(monitor = 'val_loss', patience = 10),\n",
    "             ReduceLROnPlateau(monitor = 'val_loss', patience = 5, factor = 1/3)]"
   ]
  },
  {
   "cell_type": "code",
   "execution_count": 18,
   "metadata": {},
   "outputs": [
    {
     "name": "stdout",
     "output_type": "stream",
     "text": [
      "Model: \"sequential_1\"\n",
      "_________________________________________________________________\n",
      "Layer (type)                 Output Shape              Param #   \n",
      "=================================================================\n",
      "dense_1 (Dense)              (None, 128)               524416    \n",
      "_________________________________________________________________\n",
      "dropout_1 (Dropout)          (None, 128)               0         \n",
      "_________________________________________________________________\n",
      "dense_2 (Dense)              (None, 128)               16512     \n",
      "_________________________________________________________________\n",
      "dropout_2 (Dropout)          (None, 128)               0         \n",
      "_________________________________________________________________\n",
      "dense_3 (Dense)              (None, 10)                1290      \n",
      "=================================================================\n",
      "Total params: 542,218\n",
      "Trainable params: 542,218\n",
      "Non-trainable params: 0\n",
      "_________________________________________________________________\n"
     ]
    }
   ],
   "source": [
    "#plot_model(model, show_shapes=True, show_layer_names=True)\n",
    "model.summary()"
   ]
  },
  {
   "cell_type": "code",
   "execution_count": 19,
   "metadata": {
    "scrolled": true
   },
   "outputs": [
    {
     "data": {
      "image/png": "[encoded data removed]",
      "text/plain": [
       "<Figure size 864x576 with 2 Axes>"
      ]
     },
     "metadata": {
      "needs_background": "light"
     },
     "output_type": "display_data"
    },
    {
     "name": "stdout",
     "output_type": "stream",
     "text": [
      "accuracy\n",
      "\tvalidation       \t (min:    0.279, max:    0.794, cur:    0.785)\n",
      "\ttraining         \t (min:    0.108, max:    0.914, cur:    0.901)\n",
      "Loss\n",
      "\tvalidation       \t (min:    0.806, max:    2.403, cur:    0.816)\n",
      "\ttraining         \t (min:    0.441, max:    2.501, cur:    0.448)\n"
     ]
    },
    {
     "data": {
      "text/plain": [
       "<keras.callbacks.callbacks.History at 0x27176d0a5c8>"
      ]
     },
     "execution_count": 19,
     "metadata": {},
     "output_type": "execute_result"
    }
   ],
   "source": [
    "model.fit(X_train, \n",
    "          y_train, \n",
    "          batch_size = 64, \n",
    "          epochs = 100, \n",
    "          validation_split = 0.2, \n",
    "          verbose = 1,\n",
    "          callbacks = callbacks)"
   ]
  },
  {
   "cell_type": "markdown",
   "metadata": {},
   "source": [
    "## 6. Evaluating on the test set"
   ]
  },
  {
   "cell_type": "markdown",
   "metadata": {},
   "source": [
    "Train accuracy reached 90%, while validation was around 80%. Test accuracy is also around 80%, so generalization worked, the model seems to perform similarly on validational data sets. 80% is not great, but for an ANN it's actually quite good in my opinion. CNN shall break into the 90-95% test accuracy tho!"
   ]
  },
  {
   "cell_type": "code",
   "execution_count": 20,
   "metadata": {},
   "outputs": [
    {
     "name": "stdout",
     "output_type": "stream",
     "text": [
      "Accuracy on test set:  80.15%\n"
     ]
    }
   ],
   "source": [
    "test_acc = model.evaluate(X_test, y_test, verbose = 0)[1]\n",
    "print(\"Accuracy on test set: \",\"{:.2%}\".format(test_acc))"
   ]
  },
  {
   "cell_type": "markdown",
   "metadata": {},
   "source": [
    "## 7. Saving model"
   ]
  },
  {
   "cell_type": "markdown",
   "metadata": {},
   "source": [
    "No need to re-train the model again"
   ]
  },
  {
   "cell_type": "code",
   "execution_count": 21,
   "metadata": {},
   "outputs": [],
   "source": [
    "model.save(\"../../../assignment_1/silent_mnist_model.h5\")"
   ]
  },
  {
   "cell_type": "code",
   "execution_count": null,
   "metadata": {},
   "outputs": [],
   "source": [
    "# to load\n",
    "# model = load_model(\"../../../assignment_1/silent_mnist_model.h5\")"
   ]
  }
 ],
 "metadata": {
  "kernelspec": {
   "display_name": "Python 3",
   "language": "python",
   "name": "python3"
  },
  "language_info": {
   "codemirror_mode": {
    "name": "ipython",
    "version": 3
   },
   "file_extension": ".py",
   "mimetype": "text/x-python",
   "name": "python",
   "nbconvert_exporter": "python",
   "pygments_lexer": "ipython3",
   "version": "3.7.7"
  }
 },
 "nbformat": 4,
 "nbformat_minor": 4
}
